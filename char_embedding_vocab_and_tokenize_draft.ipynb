{
 "cells": [
  {
   "cell_type": "code",
   "execution_count": 1,
   "metadata": {
    "collapsed": true
   },
   "outputs": [],
   "source": [
    "import json\n",
    "import sys\n",
    "import random\n",
    "import numpy as np\n",
    "import pickle\n",
    "from Vocab import Vocab\n",
    "from Tokenize import Tokenize"
   ]
  },
  {
   "cell_type": "code",
   "execution_count": 2,
   "metadata": {
    "collapsed": false
   },
   "outputs": [
    {
     "name": "stdout",
     "output_type": "stream",
     "text": [
      "all words count: 6016\n",
      "all lines count: 17388\n",
      "labels count: 5606\n",
      "max length of explain: 144\n",
      "length cut result: 16328\n",
      "max length of explain: 144\n",
      "length cut result: 15801\n",
      "max length of explain: 144\n",
      "length cut result: 15332\n",
      "max length of explain: 144\n",
      "length cut result: 14858\n",
      "max length of explain: 144\n",
      "length cut result: 12731\n",
      "max length of explain: 144\n",
      "length cut result: 10071\n"
     ]
    }
   ],
   "source": [
    "fi_path='./vocab.mean.t2s.txt'\n",
    "vocab=Vocab(fi_path)\n",
    "vocab.build_vocab()\n",
    "vocab.print_vocab()\n",
    "vocab.line_length_statistics(length_cut=25)\n",
    "vocab.line_length_statistics(length_cut=20)\n",
    "vocab.line_length_statistics(length_cut=17)\n",
    "vocab.line_length_statistics(length_cut=15)\n",
    "vocab.line_length_statistics(length_cut=10)\n",
    "vocab.line_length_statistics(length_cut=7)"
   ]
  },
  {
   "cell_type": "code",
   "execution_count": 3,
   "metadata": {
    "collapsed": false
   },
   "outputs": [
    {
     "name": "stdout",
     "output_type": "stream",
     "text": [
      "江\n",
      "1964\n",
      "6017\n",
      "4613\n",
      "6016\n"
     ]
    }
   ],
   "source": [
    "print(vocab.idx2word[vocab.word2idx['江']])\n",
    "print(vocab.word2idx['欠'])\n",
    "print(vocab.word2idx['祔'])\n",
    "print(vocab.word2idx['皋'])\n",
    "print(vocab.word2idx['艮'])"
   ]
  },
  {
   "cell_type": "code",
   "execution_count": 4,
   "metadata": {
    "collapsed": false
   },
   "outputs": [],
   "source": [
    "vocab.save_vocab('./vocab.txt')"
   ]
  },
  {
   "cell_type": "code",
   "execution_count": 12,
   "metadata": {
    "collapsed": false
   },
   "outputs": [],
   "source": [
    "with open('./vocab.txt','rb') as f:\n",
    "    vocab=pickle.load(f)\n",
    "f.close()\n",
    "tokenize=Tokenize(fi_path, vocab, length_cut=17)\n",
    "explains_token, labels_token=tokenize.word_tokenize()\n",
    "#save\n",
    "tokenize.save_tokenize('./tokenize.txt')"
   ]
  },
  {
   "cell_type": "code",
   "execution_count": 13,
   "metadata": {
    "collapsed": false
   },
   "outputs": [
    {
     "name": "stdout",
     "output_type": "stream",
     "text": [
      "['用', '指', '或', '爪', '挠', 'padding', 'padding', 'padding', 'padding', 'padding', 'padding', 'padding', 'padding', 'padding', 'padding', 'padding', 'padding'] 17 5\n",
      "抓\n"
     ]
    }
   ],
   "source": [
    "with open('./tokenize.txt','rb') as f:\n",
    "    tokenize=pickle.load(f)\n",
    "f.close()\n",
    "randn=3\n",
    "ex_token=tokenize.explains_token[randn]\n",
    "ex=[]\n",
    "for x in ex_token:\n",
    "    ex.append(tokenize.vocab.idx2word[x])\n",
    "print(ex, len(ex), tokenize.sentence_lengths[randn])\n",
    "print(tokenize.vocab.idx2word[tokenize.labels_token[randn]])"
   ]
  },
  {
   "cell_type": "code",
   "execution_count": 7,
   "metadata": {
    "collapsed": false
   },
   "outputs": [
    {
     "data": {
      "text/plain": [
       "2"
      ]
     },
     "execution_count": 7,
     "metadata": {},
     "output_type": "execute_result"
    }
   ],
   "source": [
    "min(2,3)"
   ]
  },
  {
   "cell_type": "code",
   "execution_count": null,
   "metadata": {
    "collapsed": true
   },
   "outputs": [],
   "source": []
  }
 ],
 "metadata": {
  "anaconda-cloud": {},
  "kernelspec": {
   "display_name": "Python [conda root]",
   "language": "python",
   "name": "conda-root-py"
  },
  "language_info": {
   "codemirror_mode": {
    "name": "ipython",
    "version": 3
   },
   "file_extension": ".py",
   "mimetype": "text/x-python",
   "name": "python",
   "nbconvert_exporter": "python",
   "pygments_lexer": "ipython3",
   "version": "3.5.4"
  }
 },
 "nbformat": 4,
 "nbformat_minor": 1
}
